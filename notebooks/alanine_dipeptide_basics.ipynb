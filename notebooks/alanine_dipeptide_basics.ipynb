{
 "cells": [
  {
   "cell_type": "markdown",
   "id": "theoretical-queen",
   "metadata": {},
   "source": [
    "# Training a Boltzmann Generator for Alanine Dipeptide\n",
    "\n",
    "This notebook introduces basic concepts behind `bgtorch`. \n",
    "\n",
    "It shows how to build an train a Boltzmann generator for a small peptide. The most important aspects it will cover are\n",
    "\n",
    "- retrieval of molecular training data\n",
    "- defining a internal coordinate transform\n",
    "- defining normalizing flow classes\n",
    "- combining different normalizing flows\n",
    "- training a Boltzmann generator via NLL and KLL\n",
    "\n",
    "The main purpose of this tutorial is to introduce the implementation. The network design is optimized for educational purposes rather than good performance. In the conlusions, we will discuss some aspects of the generator that are not ideal and outline improvements.\n",
    "\n",
    "## Some Preliminaries\n",
    "\n",
    "We instruct jupyter to reload any imports automatically and define the device and datatype, on which we want to perform the computations."
   ]
  },
  {
   "cell_type": "code",
   "execution_count": 1,
   "id": "infinite-purpose",
   "metadata": {},
   "outputs": [],
   "source": [
    "%load_ext autoreload"
   ]
  },
  {
   "cell_type": "code",
   "execution_count": 2,
   "id": "interim-booking",
   "metadata": {},
   "outputs": [],
   "source": [
    "%autoreload 2"
   ]
  },
  {
   "cell_type": "code",
   "execution_count": 3,
   "id": "formed-sender",
   "metadata": {},
   "outputs": [],
   "source": [
    "import torch\n",
    "\n",
    "device = \"cuda:0\" if torch.cuda.is_available() else \"cpu\"\n",
    "dtype = torch.float32\n",
    "\n",
    "# a context tensor to send data to the right device and dtype via '.to(ctx)'\n",
    "ctx = torch.zeros([], device=device, dtype=dtype)\n",
    "\n",
    "# a brief check if this module is the main executable (or imported)\n",
    "main = (__name__ == \"__main__\")"
   ]
  },
  {
   "cell_type": "markdown",
   "id": "front-remove",
   "metadata": {},
   "source": [
    "\n",
    "\n",
    "## Load the Data and the Molecular System\n",
    "\n",
    "Molecular trajectories and their corresponding potential energy functions are available from the `openmmsystems` repository."
   ]
  },
  {
   "cell_type": "code",
   "execution_count": 4,
   "id": "chemical-producer",
   "metadata": {},
   "outputs": [
    {
     "name": "stderr",
     "output_type": "stream",
     "text": [
      "  4%|▍         | 9076736/239629978 [00:00<00:02, 90666065.20it/s]"
     ]
    },
    {
     "name": "stdout",
     "output_type": "stream",
     "text": [
      "Downloading ftp://ftp.mi.fu-berlin.de/pub/cmb-data/openmmsystems/ala2/Ala2TSF300.tgz to /srv/public/kraemea88/coding/bgtorch/notebooks/Ala2TSF300.tgz\n"
     ]
    },
    {
     "name": "stderr",
     "output_type": "stream",
     "text": [
      "239632384it [00:02, 116293521.71it/s]                               \n"
     ]
    },
    {
     "name": "stdout",
     "output_type": "stream",
     "text": [
      "Extracting /srv/public/kraemea88/coding/bgtorch/notebooks/Ala2TSF300.tgz to /srv/public/kraemea88/coding/bgtorch/notebooks\n",
      "Using downloaded and verified file: /tmp/alanine-dipeptide-nowater.pdb\n"
     ]
    }
   ],
   "source": [
    "import os\n",
    "from openmmsystems.datasets import Ala2TSF300\n",
    "\n",
    "dataset = Ala2TSF300(download=True, read=True)\n",
    "system = dataset.system\n",
    "coordinates = dataset.coordinates\n",
    "temperature = dataset.temperature\n",
    "dim = dataset.dim"
   ]
  },
  {
   "cell_type": "markdown",
   "id": "enclosed-custom",
   "metadata": {},
   "source": [
    "The energy model is a `bgtorch.Energy` that wraps around OpenMM. The `n_workers` argument determines the number of openmm contexts that are used for energy evaluations. In notebooks, we set `n_workers=1` to avoid hickups. In production, we can omit this argument so that `n_workers` is automatically set to the number of CPU cores."
   ]
  },
  {
   "cell_type": "code",
   "execution_count": 5,
   "id": "suspended-novelty",
   "metadata": {},
   "outputs": [],
   "source": [
    "target_energy = dataset.get_energy_model(n_workers=1)"
   ]
  },
  {
   "cell_type": "markdown",
   "id": "announced-entrepreneur",
   "metadata": {},
   "source": [
    "### Visualize Data: Ramachandran Plot for the Backbone Angles"
   ]
  },
  {
   "cell_type": "code",
   "execution_count": 6,
   "id": "sound-gregory",
   "metadata": {},
   "outputs": [],
   "source": [
    "import numpy as np\n",
    "import mdtraj as md \n",
    "from matplotlib import pyplot as plt\n",
    "from matplotlib.colors import LogNorm\n",
    "\n",
    "def plot_phi_psi(ax, trajectory, system):\n",
    "    if not isinstance(trajectory, md.Trajectory):\n",
    "        trajectory = md.Trajectory(\n",
    "            xyz=samples.cpu().detach().numpy().reshape(-1, 22, 3), \n",
    "            topology=system.mdtraj_topology\n",
    "        )\n",
    "    phi, psi = system.compute_phi_psi(trajectory)\n",
    "    \n",
    "    ax.hist2d(phi, psi, 50, norm=LogNorm())\n",
    "    ax.set_xlim(-np.pi, np.pi)\n",
    "    ax.set_ylim(-np.pi, np.pi)\n",
    "    ax.set_xlabel(\"$\\phi$\")\n",
    "    _ = ax.set_ylabel(\"$\\psi$\")\n",
    "    \n",
    "    return trajectory"
   ]
  },
  {
   "cell_type": "code",
   "execution_count": 7,
   "id": "received-netherlands",
   "metadata": {},
   "outputs": [
    {
     "data": {
      "image/png": "[encoded data removed]",
      "text/plain": [
       "<Figure size 216x216 with 1 Axes>"
      ]
     },
     "metadata": {
      "needs_background": "light"
     },
     "output_type": "display_data"
    }
   ],
   "source": [
    "if main:\n",
    "    fig, ax = plt.subplots(figsize=(3,3))\n",
    "    _ = plot_phi_psi(ax, dataset.trajectory, system)"
   ]
  },
  {
   "cell_type": "markdown",
   "id": "deluxe-thumb",
   "metadata": {},
   "source": [
    "## Split Data and Randomly Permute Samples"
   ]
  },
  {
   "cell_type": "code",
   "execution_count": 8,
   "id": "stupid-sudan",
   "metadata": {},
   "outputs": [],
   "source": [
    "n_train = len(dataset)//2\n",
    "n_test = len(dataset) - n_train\n",
    "permutation = np.random.permutation(n_train)\n",
    "\n",
    "all_data = coordinates.reshape(-1, dataset.dim)\n",
    "training_data = torch.tensor(all_data[permutation]).to(ctx)\n",
    "test_data = torch.tensor(all_data[permutation + n_train]).to(ctx)"
   ]
  },
  {
   "cell_type": "markdown",
   "id": "completed-reggae",
   "metadata": {},
   "source": [
    "## Define the Internal Coordinate Transform\n",
    "\n",
    "Rather than generating all-Cartesian coordinates, we use a mixed internal coordinate transform.\n",
    "The five central alanine atoms will serve as a Cartesian \"anchor\", from which all other atoms are placed with respect to internal coordinates (IC) defined through a z-matrix. We have deposited a valid `z_matrix` and the corresponding `rigid_block` in the `dataset.system` from `openmmsystems`."
   ]
  },
  {
   "cell_type": "code",
   "execution_count": 9,
   "id": "iraqi-disclosure",
   "metadata": {},
   "outputs": [],
   "source": [
    "import bgtorch as bg"
   ]
  },
  {
   "cell_type": "code",
   "execution_count": 10,
   "id": "hundred-father",
   "metadata": {},
   "outputs": [],
   "source": [
    "# throw away 6 degrees of freedom (rotation and translation)\n",
    "dim_cartesian = len(system.rigid_block) * 3 - 6\n",
    "dim_bonds = len(system.z_matrix)\n",
    "dim_angles = dim_bonds\n",
    "dim_torsions = dim_bonds"
   ]
  },
  {
   "cell_type": "code",
   "execution_count": 11,
   "id": "suited-hepatitis",
   "metadata": {},
   "outputs": [],
   "source": [
    "coordinate_transform = bg.MixedCoordinateTransformation(\n",
    "    data=training_data, \n",
    "    z_matrix=system.z_matrix,\n",
    "    fixed_atoms=system.rigid_block,\n",
    "    keepdims=dim_cartesian, \n",
    "    normalize_angles=True,\n",
    ").to(ctx)"
   ]
  },
  {
   "cell_type": "markdown",
   "id": "instant-cycling",
   "metadata": {},
   "source": [
    "For demonstration, we transform the first 3 samples from the training data set into internal coordinates as follows:"
   ]
  },
  {
   "cell_type": "code",
   "execution_count": 12,
   "id": "impaired-special",
   "metadata": {
    "scrolled": true
   },
   "outputs": [
    {
     "data": {
      "text/plain": [
       "(torch.Size([3, 17]),\n",
       " torch.Size([3, 17]),\n",
       " torch.Size([3, 17]),\n",
       " torch.Size([3, 9]),\n",
       " torch.Size([3, 1]))"
      ]
     },
     "execution_count": 12,
     "metadata": {},
     "output_type": "execute_result"
    }
   ],
   "source": [
    "bonds, angles, torsions, cartesian, dlogp = coordinate_transform.forward(training_data[:3])\n",
    "bonds.shape, angles.shape, torsions.shape, cartesian.shape, dlogp.shape"
   ]
  },
  {
   "cell_type": "markdown",
   "id": "hungarian-lyric",
   "metadata": {},
   "source": [
    "## Prior Distribution\n",
    "\n",
    "The next step is to define a prior distribution that we can easily sample from. The normalizing flow will be trained to transform such latent samples into molecular coordinates. Here, we just take a normal distribution, which is a rather naive choice for reasons that will be discussed in other notebooks."
   ]
  },
  {
   "cell_type": "code",
   "execution_count": 13,
   "id": "after-initial",
   "metadata": {},
   "outputs": [],
   "source": [
    "dim_ics = dim_bonds + dim_angles + dim_torsions + dim_cartesian\n",
    "mean = torch.zeros(dim_ics).to(ctx) \n",
    "# passing the mean explicitly to create samples on the correct device\n",
    "prior = bg.NormalDistribution(dim_ics, mean=mean)"
   ]
  },
  {
   "cell_type": "markdown",
   "id": "unexpected-drill",
   "metadata": {},
   "source": [
    "## Normalizing Flow\n",
    "\n",
    "Next, we set up the normalizing flow by stacking together different neural networks. For now, we will do this in a rather naive way, not distinguishing between bonds, angles, and torsions. Therefore, we will first define a flow that splits the output from the prior into the different IC terms.\n",
    "\n",
    "### Split Layer"
   ]
  },
  {
   "cell_type": "code",
   "execution_count": 14,
   "id": "documented-concentrate",
   "metadata": {},
   "outputs": [],
   "source": [
    "split_into_ics_flow = bg.SplitFlow(dim_bonds, dim_angles, dim_torsions, dim_cartesian)"
   ]
  },
  {
   "cell_type": "code",
   "execution_count": 15,
   "id": "organic-regular",
   "metadata": {},
   "outputs": [
    {
     "data": {
      "text/plain": [
       "torch.Size([3, 66])"
      ]
     },
     "execution_count": 15,
     "metadata": {},
     "output_type": "execute_result"
    }
   ],
   "source": [
    "# test\n",
    "_ics = split_into_ics_flow(prior.sample(3))[:-1]\n",
    "coordinate_transform.forward(*_ics, inverse=True)[0].shape"
   ]
  },
  {
   "cell_type": "markdown",
   "id": "duplicate-century",
   "metadata": {},
   "source": [
    "### Coupling Layers\n",
    "\n",
    "Next, we will set up so-called RealNVP coupling layers, which split the input into two channels and then learn affine transformations of channel 1 conditioned on channel 2. Here we will do the split naively between the first and second half of the degrees of freedom."
   ]
  },
  {
   "cell_type": "code",
   "execution_count": 16,
   "id": "distinguished-amplifier",
   "metadata": {},
   "outputs": [],
   "source": [
    "class RealNVP(bg.SequentialFlow):\n",
    "    \n",
    "    def __init__(self, dim, hidden):\n",
    "        self.dim = dim\n",
    "        self.hidden = hidden\n",
    "        super().__init__(self._create_layers())\n",
    "    \n",
    "    def _create_layers(self):\n",
    "        dim_channel1 =  self.dim//2\n",
    "        dim_channel2 = self.dim - dim_channel1\n",
    "        split_into_2 = bg.SplitFlow(dim_channel1, dim_channel2)\n",
    "        \n",
    "        layers = [\n",
    "            # -- split\n",
    "            split_into_2,\n",
    "            # --transform\n",
    "            self._coupling_block(dim_channel1, dim_channel2),\n",
    "            bg.SwapFlow(),\n",
    "            self._coupling_block(dim_channel2, dim_channel1),\n",
    "            # -- merge\n",
    "            bg.InverseFlow(split_into_2)\n",
    "        ]\n",
    "        return layers\n",
    "        \n",
    "    def _dense_net(self, dim1, dim2):\n",
    "        return bg.DenseNet(\n",
    "            [dim1, *self.hidden, dim2],\n",
    "            activation=torch.nn.ReLU()\n",
    "        )\n",
    "    \n",
    "    def _coupling_block(self, dim1, dim2):\n",
    "        return bg.CouplingFlow(bg.AffineTransformer(\n",
    "            shift_transformation=self._dense_net(dim1, dim2),\n",
    "            scale_transformation=self._dense_net(dim1, dim2)\n",
    "        ))\n",
    "    "
   ]
  },
  {
   "cell_type": "code",
   "execution_count": 17,
   "id": "charming-questionnaire",
   "metadata": {},
   "outputs": [
    {
     "data": {
      "text/plain": [
       "torch.Size([3, 60])"
      ]
     },
     "execution_count": 17,
     "metadata": {},
     "output_type": "execute_result"
    }
   ],
   "source": [
    "RealNVP(dim_ics, hidden=[128]).to(ctx).forward(prior.sample(3))[0].shape"
   ]
  },
  {
   "cell_type": "markdown",
   "id": "yellow-importance",
   "metadata": {},
   "source": [
    "### Boltzmann Generator\n",
    "\n",
    "Finally, we define the Boltzmann generator.\n",
    "It will sample molecular conformations by \n",
    "\n",
    "1. sampling in latent space from the normal prior distribution,\n",
    "2. transforming the samples into a more complication distribution through a number of RealNVP blocks (the parameters of these blocks will be subject to optimization),\n",
    "3. splitting the output of the network into blocks that define the internal coordinates, and\n",
    "4. transforming the internal coordinates into Cartesian coordinates through the inverse IC transform."
   ]
  },
  {
   "cell_type": "code",
   "execution_count": 18,
   "id": "executed-finding",
   "metadata": {},
   "outputs": [],
   "source": [
    "n_realnvp_blocks = 5\n",
    "layers = []\n",
    "\n",
    "for i in range(n_realnvp_blocks):\n",
    "    layers.append(RealNVP(dim_ics, hidden=[128, 128, 128]))\n",
    "layers.append(split_into_ics_flow)\n",
    "layers.append(bg.InverseFlow(coordinate_transform))\n",
    "\n",
    "flow = bg.SequentialFlow(layers).to(ctx)"
   ]
  },
  {
   "cell_type": "code",
   "execution_count": 19,
   "id": "yellow-trunk",
   "metadata": {},
   "outputs": [
    {
     "data": {
      "text/plain": [
       "torch.Size([3, 66])"
      ]
     },
     "execution_count": 19,
     "metadata": {},
     "output_type": "execute_result"
    }
   ],
   "source": [
    "# test\n",
    "flow.forward(prior.sample(3))[0].shape"
   ]
  },
  {
   "cell_type": "code",
   "execution_count": 20,
   "id": "damaged-grounds",
   "metadata": {},
   "outputs": [
    {
     "data": {
      "text/plain": [
       "('#Parameters:', 817250)"
      ]
     },
     "execution_count": 20,
     "metadata": {},
     "output_type": "execute_result"
    }
   ],
   "source": [
    "# print number of trainable parameters\n",
    "\"#Parameters:\", np.sum([np.prod(p.size()) for p in flow.parameters()])"
   ]
  },
  {
   "cell_type": "code",
   "execution_count": 21,
   "id": "variable-brain",
   "metadata": {},
   "outputs": [],
   "source": [
    "generator = bg.BoltzmannGenerator(\n",
    "    flow=flow,\n",
    "    prior=prior,\n",
    "    target=target_energy\n",
    ")"
   ]
  },
  {
   "cell_type": "markdown",
   "id": "sonic-conviction",
   "metadata": {},
   "source": [
    "## Train\n",
    "\n",
    "Boltzmann generators can be trained in two ways:\n",
    "1. by matching the density of samples from the training data via the negative log likelihood (NLL), and\n",
    "2. by matching the target density via the backward Kullback-Leibler loss (KLL).\n",
    "\n",
    "NLL-based training is faster, as it does not require the computation of molecular target energies. Therefore, we will first train the generator solely by density estimation.\n",
    "\n",
    "### NLL Training"
   ]
  },
  {
   "cell_type": "code",
   "execution_count": 22,
   "id": "developed-flight",
   "metadata": {},
   "outputs": [],
   "source": [
    "nll_optimizer = torch.optim.Adam(generator.parameters(), lr=1e-3)\n",
    "nll_trainer = bg.KLTrainer(\n",
    "    generator, \n",
    "    optim=nll_optimizer,\n",
    "    train_energy=False\n",
    ")"
   ]
  },
  {
   "cell_type": "code",
   "execution_count": 23,
   "id": "sonic-classification",
   "metadata": {
    "scrolled": true
   },
   "outputs": [
    {
     "name": "stdout",
     "output_type": "stream",
     "text": [
      "1\tNLL: -8.9000\t\n",
      "1001\tNLL: -177.9330\t\n",
      "2001\tNLL: -200.7097\t\n",
      "3001\tNLL: -214.8594\t\n",
      "4001\tNLL: -221.6305\t\n",
      "5001\tNLL: -220.0310\t\n",
      "6001\tNLL: -225.7760\t\n",
      "7001\tNLL: -226.2952\t\n",
      "8001\tNLL: -217.2960\t\n",
      "9001\tNLL: -233.9757\t\n",
      "10001\tNLL: -230.1428\t\n",
      "11001\tNLL: -229.6821\t\n",
      "12001\tNLL: -234.9468\t\n",
      "13001\tNLL: -234.5916\t\n",
      "14001\tNLL: -222.5854\t\n",
      "15001\tNLL: -235.2247\t\n",
      "16001\tNLL: -237.6069\t\n",
      "17001\tNLL: -241.5818\t\n",
      "18001\tNLL: -238.8931\t\n",
      "19001\tNLL: -236.5004\t\n"
     ]
    }
   ],
   "source": [
    "if main:\n",
    "    nll_trainer.train(\n",
    "        n_iter=20000, \n",
    "        data=training_data,\n",
    "        batchsize=128,\n",
    "        n_print=1000, \n",
    "        w_energy=0.0\n",
    "    )"
   ]
  },
  {
   "cell_type": "markdown",
   "id": "rural-philippines",
   "metadata": {},
   "source": [
    "To see what the generator has learned so far, let's first create a bunch of samples and compare their backbone angles with the molecular dynamics data. Let's also plot their energies."
   ]
  },
  {
   "cell_type": "code",
   "execution_count": 24,
   "id": "magnetic-washer",
   "metadata": {},
   "outputs": [],
   "source": [
    "def plot_energies(ax, samples, target_energy, test_data):\n",
    "    sample_energies = target_energy.energy(samples).cpu().detach().numpy()\n",
    "    md_energies = target_energy.energy(test_data[:len(samples)]).cpu().detach().numpy()\n",
    "    \n",
    "    ax.hist(sample_energies, bins=150, log=True, density=True, label=\"BG\")\n",
    "    ax.hist(md_energies, bins=150, log=True, density=True, label=\"MD\")\n",
    "    ax.set_xlim(-50,200)\n",
    "    ax.set_ylim(1e-3, None)\n",
    "    ax.legend()"
   ]
  },
  {
   "cell_type": "code",
   "execution_count": 25,
   "id": "defined-suicide",
   "metadata": {},
   "outputs": [
    {
     "data": {
      "image/png": "[encoded data removed]",
      "text/plain": [
       "<Figure size 576x288 with 2 Axes>"
      ]
     },
     "metadata": {
      "needs_background": "light"
     },
     "output_type": "display_data"
    }
   ],
   "source": [
    "if main:\n",
    "    \n",
    "    n_samples = 10000\n",
    "    samples = generator.sample(n_samples)\n",
    "\n",
    "    fig, axes = plt.subplots(1, 2, figsize=(8,4))\n",
    "    fig.tight_layout(pad=3.0)\n",
    "\n",
    "    plot_phi_psi(axes[0], samples, system)\n",
    "    plot_energies(axes[1], samples, target_energy, test_data)\n",
    "\n",
    "    del samples"
   ]
  },
  {
   "cell_type": "markdown",
   "id": "executed-metallic",
   "metadata": {},
   "source": [
    "### Mixed Training\n",
    "\n",
    "The next step is \"mixed\" training with a combination of NLL and KLL. To retain some of the progress made in the NLL phase, we decrease the learning rate and increase the batch size."
   ]
  },
  {
   "cell_type": "code",
   "execution_count": 26,
   "id": "regional-toddler",
   "metadata": {},
   "outputs": [],
   "source": [
    "mixed_optimizer = torch.optim.Adam(generator.parameters(), lr=1e-4)\n",
    "mixed_trainer = bg.KLTrainer(\n",
    "    generator, \n",
    "    optim=mixed_optimizer,\n",
    "    train_energy=True\n",
    ")"
   ]
  },
  {
   "cell_type": "markdown",
   "id": "social-mount",
   "metadata": {},
   "source": [
    "Mixed training will be considerably slower. \n",
    "To speed it up, you can change the settings for the OpenMM energy when creating the energy model. For example, consider not passing `n_workers=1`.\n",
    "\n",
    "To avoid large potential energy gradients from singularities, the components of the KL gradient are constrained to (-10, 10). "
   ]
  },
  {
   "cell_type": "code",
   "execution_count": 27,
   "id": "ceramic-leadership",
   "metadata": {},
   "outputs": [
    {
     "name": "stdout",
     "output_type": "stream",
     "text": [
      "1\tKLL: 5057.5898\tNLL: -242.8223\t\n",
      "101\tKLL: 2074.9336\tNLL: -238.9494\t\n",
      "201\tKLL: 1258.2520\tNLL: -226.4093\t\n",
      "301\tKLL: 876.8505\tNLL: -231.8750\t\n",
      "401\tKLL: 889.0613\tNLL: -234.5892\t\n",
      "501\tKLL: 814.7209\tNLL: -234.2133\t\n",
      "601\tKLL: 849.5224\tNLL: -237.4610\t\n",
      "701\tKLL: 908.0064\tNLL: -237.9883\t\n",
      "801\tKLL: 786.3909\tNLL: -238.8765\t\n",
      "901\tKLL: 762.3516\tNLL: -237.1801\t\n",
      "1001\tKLL: 734.3448\tNLL: -239.0844\t\n",
      "1101\tKLL: 738.7508\tNLL: -239.7332\t\n",
      "1201\tKLL: 748.3374\tNLL: -240.3146\t\n",
      "1301\tKLL: 715.0308\tNLL: -240.1568\t\n",
      "1401\tKLL: 744.6052\tNLL: -240.6491\t\n",
      "1501\tKLL: 697.3954\tNLL: -240.5010\t\n",
      "1601\tKLL: 710.8959\tNLL: -241.9992\t\n",
      "1701\tKLL: 698.8629\tNLL: -242.3802\t\n",
      "1801\tKLL: 694.5069\tNLL: -242.5472\t\n",
      "1901\tKLL: 681.2141\tNLL: -242.5134\t\n"
     ]
    }
   ],
   "source": [
    "if main:\n",
    "    mixed_trainer.train(\n",
    "        n_iter=2000, \n",
    "        data=training_data,\n",
    "        batchsize=1000,\n",
    "        n_print=100, \n",
    "        w_energy=0.1,\n",
    "        w_likelihood=0.9,\n",
    "        clip_forces=10.0\n",
    "    )"
   ]
  },
  {
   "cell_type": "markdown",
   "id": "appropriate-companion",
   "metadata": {},
   "source": [
    "Plot the results:"
   ]
  },
  {
   "cell_type": "code",
   "execution_count": 28,
   "id": "seventh-street",
   "metadata": {},
   "outputs": [
    {
     "data": {
      "image/png": "[encoded data removed]",
      "text/plain": [
       "<Figure size 576x288 with 2 Axes>"
      ]
     },
     "metadata": {
      "needs_background": "light"
     },
     "output_type": "display_data"
    }
   ],
   "source": [
    "if main:\n",
    "    n_samples = 10000\n",
    "    samples = generator.sample(n_samples)\n",
    "\n",
    "    fig, axes = plt.subplots(1, 2, figsize=(8,4))\n",
    "    fig.tight_layout(pad=3.0)\n",
    "\n",
    "    trajectory = plot_phi_psi(axes[0], samples, system)\n",
    "    plot_energies(axes[1], samples, target_energy, test_data)\n",
    "\n",
    "    del samples"
   ]
  },
  {
   "cell_type": "markdown",
   "id": "outside-launch",
   "metadata": {},
   "source": [
    "With nglview installed, we can also take a look at the samples."
   ]
  },
  {
   "cell_type": "code",
   "execution_count": 29,
   "id": "strategic-jordan",
   "metadata": {},
   "outputs": [
    {
     "data": {
      "application/vnd.jupyter.widget-view+json": {
       "model_id": "2d922d5f9f71434591a7af75e430d589",
       "version_major": 2,
       "version_minor": 0
      },
      "text/plain": [
       "_ColormakerRegistry()"
      ]
     },
     "metadata": {},
     "output_type": "display_data"
    },
    {
     "data": {
      "application/vnd.jupyter.widget-view+json": {
       "model_id": "0532a3023b9d49e0960069d0d3e7dad0",
       "version_major": 2,
       "version_minor": 0
      },
      "text/plain": [
       "NGLWidget(max_frame=9999)"
      ]
     },
     "metadata": {},
     "output_type": "display_data"
    }
   ],
   "source": [
    "try:\n",
    "    import nglview as nv\n",
    "    widget = nv.show_mdtraj(trajectory)\n",
    "except:\n",
    "    widget = None\n",
    "widget"
   ]
  },
  {
   "cell_type": "markdown",
   "id": "exclusive-repeat",
   "metadata": {},
   "source": [
    "## Conclusions\n",
    "\n",
    "This tutorial has introduced the most basic concepts and implementations underlying Boltzmann generators and `bgtorch`. That said, the trained networks did not do a particularly good job in reproducing the molecular Boltzmann distribution. Specifically, they only modeled the major modes of the $\\phi$ angle and still produced many samples with unreasonably large energies. Let's look at a few shortcomings of the present architecture:\n",
    "\n",
    "### 1) Unconstrained Internal Coordinates\n",
    "Bonds, angles, and torsions must not take arbitrary values in principle. Bond lengths need to be positive, angles live in $[0,\\pi],$ and torsions are periodic in $[-\\pi, \\pi].$ Neither those bounds nor the periodicity of torsions distributions have been taken into account by the present Boltzmann generator. The layers of the normalizing flow should be build in a way that preserves these constraints on the ICs.\n",
    "\n",
    "### 2)  Arbitrary Coupling\n",
    "The input for the coupling layers was split into two channels rather arbitrarily (first vs. second half). A partial remedy is to define the conditioning in a physically informed manner. Another solution is to augment the base space by momenta, which can be done with augmented normalizing flows (see for instance the notebook on temperature-steering flows).\n",
    "\n",
    "### 3) RealNVP Layers\n",
    "Affine coupling layers are well-known to perform poorly in separating modes. This explains that the metastable region around $\\phi \\approx \\pi/2$ was not captured by the generator. Other architectures such as augmented flows or neural spline flows do a better job for complicated, multimodal distributions.\n",
    "\n",
    "### 4) Training\n",
    "The generators were only trained for relatively few iterations and performance may improve with longer training and better choices of the learning rate and hyperparameters."
   ]
  },
  {
   "cell_type": "code",
   "execution_count": null,
   "id": "smoking-joyce",
   "metadata": {},
   "outputs": [],
   "source": []
  }
 ],
 "metadata": {
  "kernelspec": {
   "display_name": "Python [conda env:ml] *",
   "language": "python",
   "name": "conda-env-ml-py"
  },
  "language_info": {
   "codemirror_mode": {
    "name": "ipython",
    "version": 3
   },
   "file_extension": ".py",
   "mimetype": "text/x-python",
   "name": "python",
   "nbconvert_exporter": "python",
   "pygments_lexer": "ipython3",
   "version": "3.7.6"
  }
 },
 "nbformat": 4,
 "nbformat_minor": 5
}
