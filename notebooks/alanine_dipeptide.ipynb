{
 "cells": [
  {
   "cell_type": "markdown",
   "id": "thirty-custom",
   "metadata": {},
   "source": [
    "# Training an augmented Boltzmann Generator for Alanine Dipeptide\n",
    "\n",
    "This notebook introduces basic concepts behind `bgtorch`. \n",
    "\n",
    "It shows how to build an train a Boltzmann generator for a small peptide. The most important aspects it will cover are\n",
    "\n",
    "- retrieval of molecular training data\n",
    "- defining a internal coordinate transform\n",
    "- defining normalizing flow classes\n",
    "- combining different normalizing flows\n",
    "- training a Boltzmann generator via NLL and KLL\n",
    "\n",
    "The main purpose of this tutorial is to introduce the implementation, so that the network design is rather simple for educational purposes. In the conlusions, we will discuss some aspects of the generator that are not ideal and outline improvements.\n",
    "\n",
    "## Some Preliminaries\n",
    "\n",
    "We instruct jupyter to reload any imports automatically and define the device and datatype, on which we want to perform the computations."
   ]
  },
  {
   "cell_type": "code",
   "execution_count": 1,
   "id": "informational-quarter",
   "metadata": {},
   "outputs": [],
   "source": [
    "%load_ext autoreload"
   ]
  },
  {
   "cell_type": "code",
   "execution_count": 2,
   "id": "matched-scheme",
   "metadata": {},
   "outputs": [],
   "source": [
    "%autoreload 2"
   ]
  },
  {
   "cell_type": "code",
   "execution_count": 3,
   "id": "incorporate-cooper",
   "metadata": {},
   "outputs": [],
   "source": [
    "import torch\n",
    "\n",
    "device = \"cuda:0\" if torch.cuda.is_available() else \"cpu\"\n",
    "dtype = torch.float32\n",
    "\n",
    "# a context tensor to send data to the right device and dtype via '.to(ctx)'\n",
    "ctx = torch.zeros([], device=device, dtype=dtype)"
   ]
  },
  {
   "cell_type": "markdown",
   "id": "commercial-exhaust",
   "metadata": {},
   "source": [
    "\n",
    "\n",
    "## Load the Data and the Molecular System\n",
    "\n",
    "Molecular trajectories and their corresponding potential energy functions are available from the `openmmsystems` repository."
   ]
  },
  {
   "cell_type": "code",
   "execution_count": 4,
   "id": "prostate-residence",
   "metadata": {},
   "outputs": [
    {
     "name": "stderr",
     "output_type": "stream",
     "text": [
      "  1%|          | 1933312/239629978 [00:00<00:12, 19329221.26it/s]"
     ]
    },
    {
     "name": "stdout",
     "output_type": "stream",
     "text": [
      "Downloading ftp://ftp.mi.fu-berlin.de/pub/cmb-data/openmmsystems/ala2/Ala2TSF300.tgz to /srv/public/kraemea88/coding/bgtorch/notebooks/Ala2TSF300.tgz\n"
     ]
    },
    {
     "name": "stderr",
     "output_type": "stream",
     "text": [
      "239632384it [00:02, 112324171.80it/s]                               \n"
     ]
    },
    {
     "name": "stdout",
     "output_type": "stream",
     "text": [
      "Extracting /srv/public/kraemea88/coding/bgtorch/notebooks/Ala2TSF300.tgz to /srv/public/kraemea88/coding/bgtorch/notebooks\n",
      "Using downloaded and verified file: /tmp/alanine-dipeptide-nowater.pdb\n"
     ]
    }
   ],
   "source": [
    "from openmmsystems.datasets import Ala2TSF300\n",
    "\n",
    "dataset = Ala2TSF300(download=True, read=True)\n",
    "system = dataset.system\n",
    "coordinates = dataset.coordinates\n",
    "temperature = dataset.temperature\n",
    "dim = dataset.dim"
   ]
  },
  {
   "cell_type": "markdown",
   "id": "exotic-singapore",
   "metadata": {},
   "source": [
    "The energy model is a `bgtorch.Energy` that wraps around OpenMM. The `n_workers` argument determines the number of openmm contexts that are used for energy evaluations. In notebooks, we set `n_workers = 1` to avoid hickups. In production, we can omit this argument so that `n_workers` is automatically set to the number of CPU cores."
   ]
  },
  {
   "cell_type": "code",
   "execution_count": 5,
   "id": "about-fraud",
   "metadata": {},
   "outputs": [],
   "source": [
    "target_energy = dataset.get_energy_model(n_workers=1)"
   ]
  },
  {
   "cell_type": "markdown",
   "id": "colored-dakota",
   "metadata": {},
   "source": [
    "### Visualize Data: Ramachandran Plot for the Backbone Angles"
   ]
  },
  {
   "cell_type": "code",
   "execution_count": 6,
   "id": "delayed-weekend",
   "metadata": {},
   "outputs": [],
   "source": [
    "from openmmsystems.systems.ala2 import AlanineDipeptideImplicit\n",
    "\n",
    "phi, psi = system.compute_phi_psi(dataset.trajectory)"
   ]
  },
  {
   "cell_type": "code",
   "execution_count": 7,
   "id": "determined-syndrome",
   "metadata": {},
   "outputs": [
    {
     "data": {
      "image/png": "[encoded data removed]",
      "text/plain": [
       "<Figure size 216x216 with 1 Axes>"
      ]
     },
     "metadata": {
      "needs_background": "light"
     },
     "output_type": "display_data"
    }
   ],
   "source": [
    "import numpy as np\n",
    "from matplotlib import pyplot as plt\n",
    "\n",
    "fig, ax = plt.subplots(figsize=(3,3))\n",
    "ax.scatter(phi, psi, s=0.01)\n",
    "ax.set_xlim(-np.pi, np.pi)\n",
    "ax.set_ylim(-np.pi, np.pi)\n",
    "ax.set_xlabel(\"$\\phi$\")\n",
    "_ = ax.set_ylabel(\"$\\psi$\")"
   ]
  },
  {
   "cell_type": "markdown",
   "id": "concerned-atlantic",
   "metadata": {},
   "source": [
    "## Split Data and Randomly Permute Samples"
   ]
  },
  {
   "cell_type": "code",
   "execution_count": 8,
   "id": "associate-democrat",
   "metadata": {},
   "outputs": [],
   "source": [
    "n_train = len(dataset)//2\n",
    "n_test = len(dataset) - n_train\n",
    "permutation = np.random.permutation(n_train)\n",
    "\n",
    "all_data = coordinates.reshape(-1, dataset.dim)\n",
    "training_data = torch.tensor(all_data[permutation]).to(ctx)\n",
    "test_data = torch.tensor(all_data[permutation + n_train]).to(ctx)"
   ]
  },
  {
   "cell_type": "markdown",
   "id": "separate-turner",
   "metadata": {},
   "source": [
    "## Define the Internal Coordinate Transform\n",
    "\n",
    "Rather than generating all-Cartesian coordinates, we use a mixed internal coordinate transform.\n",
    "The five central alanine atoms will serve as a Cartesian \"anchor\", from which all other atoms are placed with respect to internal coordinates (IC) defined through a z-matrix. We have deposited a valid `z_matrix` and the corresponding `rigid_block` in the `dataset.system` from `openmmsystems`."
   ]
  },
  {
   "cell_type": "code",
   "execution_count": 9,
   "id": "annual-closure",
   "metadata": {},
   "outputs": [],
   "source": [
    "# throw away 6 degrees of freedom (rotation and translation)\n",
    "dim_cartesian = len(system.rigid_block) * 3 - 6\n",
    "dim_bonds = len(system.z_matrix)\n",
    "dim_angles = dim_bonds\n",
    "dim_torsions = dim_bonds"
   ]
  },
  {
   "cell_type": "code",
   "execution_count": 10,
   "id": "dying-afternoon",
   "metadata": {},
   "outputs": [],
   "source": [
    "from bgtorch import nn\n",
    "\n",
    "coordinate_transform = nn.MixedCoordinateTransformation(\n",
    "    data=training_data, \n",
    "    z_matrix=system.z_matrix,\n",
    "    fixed_atoms=system.rigid_block,\n",
    "    keepdims=dim_cartesian, \n",
    "    normalize_angles=True,\n",
    ").to(ctx)"
   ]
  },
  {
   "cell_type": "markdown",
   "id": "honey-horizon",
   "metadata": {},
   "source": [
    "For demonstration, we transform the first 3 samples from the training data set into internal coordinates as follows:"
   ]
  },
  {
   "cell_type": "code",
   "execution_count": 11,
   "id": "victorian-google",
   "metadata": {
    "scrolled": true
   },
   "outputs": [
    {
     "name": "stdout",
     "output_type": "stream",
     "text": [
      "torch.Size([3, 17]) torch.Size([3, 17]) torch.Size([3, 17]) torch.Size([3, 9]) torch.Size([3, 1])\n"
     ]
    }
   ],
   "source": [
    "bonds, angles, torsions, cartesian, dlogp = coordinate_transform.forward(training_data[:3])\n",
    "\n",
    "print(bonds.shape, angles.shape, torsions.shape, cartesian.shape, dlogp.shape)"
   ]
  },
  {
   "cell_type": "markdown",
   "id": "egyptian-avenue",
   "metadata": {},
   "source": [
    "## Prior Distribution\n",
    "\n",
    "The next step is to define a prior distribution that we can easily sample from. The normalizing flow will be trained to transform such latent samples into molecular coordinates. Here, we just take a normal distribution, which is a rather naive choice for reasons that will be discussed in other notebooks."
   ]
  },
  {
   "cell_type": "code",
   "execution_count": 12,
   "id": "honey-sewing",
   "metadata": {},
   "outputs": [],
   "source": [
    "from bgtorch import NormalDistribution\n",
    "\n",
    "dim_ics = dim_bonds + dim_angles + dim_torsions + dim_cartesian\n",
    "mean = torch.zeros(dim_ics).to(ctx) # passing this explicitly to create samples of the right device and dtype\n",
    "prior = NormalDistribution(dim_ics, mean=mean)"
   ]
  },
  {
   "cell_type": "markdown",
   "id": "impossible-motion",
   "metadata": {},
   "source": [
    "## Normalizing Flow\n",
    "\n",
    "Next, we set up the normalizing flow by stacking together different neural networks. For now, we will do this in a rather naive way, not distinguishing between bonds, angles, and torsions. Therefore, we will first define a flow that splits the output from the prior into the different IC terms.\n",
    "\n",
    "### Split Layer"
   ]
  },
  {
   "cell_type": "code",
   "execution_count": 13,
   "id": "early-uniform",
   "metadata": {},
   "outputs": [],
   "source": [
    "# TODO: this has to go into the repo\n",
    "\n",
    "class SplitFlow(nn.Flow):\n",
    "    def __init__(self, *sizes):\n",
    "        super().__init__()\n",
    "        self._sizes = sizes\n",
    "    \n",
    "    def _forward(self, x, **kwargs):\n",
    "        *y, = torch.split(x, self._sizes, dim=-1)\n",
    "        dlogp = torch.zeros_like(x[...,[0]])\n",
    "        return (*y, dlogp)\n",
    "    \n",
    "    def _inverse(self, *xs, **kwargs):\n",
    "        y = torch.cat(xs, dim=-1)\n",
    "        dlogp = torch.zeros_like(xs[0][...,[0]])\n",
    "        return (y, dlogp)"
   ]
  },
  {
   "cell_type": "code",
   "execution_count": 14,
   "id": "optimum-sequence",
   "metadata": {},
   "outputs": [],
   "source": [
    "split_into_ics_flow = SplitFlow(dim_bonds, dim_angles, dim_torsions, dim_cartesian)"
   ]
  },
  {
   "cell_type": "code",
   "execution_count": 15,
   "id": "excess-advice",
   "metadata": {},
   "outputs": [
    {
     "data": {
      "text/plain": [
       "torch.Size([3, 66])"
      ]
     },
     "execution_count": 15,
     "metadata": {},
     "output_type": "execute_result"
    }
   ],
   "source": [
    "# test\n",
    "_ics = split_into_ics_flow(prior.sample(3))[:-1]\n",
    "coordinate_transform.forward(*_ics, inverse=True)[0].shape"
   ]
  },
  {
   "cell_type": "markdown",
   "id": "occasional-strategy",
   "metadata": {},
   "source": [
    "### Coupling Layers\n",
    "\n",
    "Next, we will set up so-called RealNVP coupling layers, which split the input into two channels and then learn affine transformations of channel 1 conditioned on channel 2. Here we will do the split on a random subset of indices."
   ]
  },
  {
   "cell_type": "code",
   "execution_count": 16,
   "id": "blind-portsmouth",
   "metadata": {},
   "outputs": [],
   "source": [
    "class RandomPermuteFlow(nn.Flow):\n",
    "    \n",
    "    def __init__(self, dim):\n",
    "        super().__init__()\n",
    "        self.permutation = torch.randperm(dim)\n",
    "        self.inverse_permutation = torch.argsort(self.permutation)\n",
    "        \n",
    "    def _forward(self, x, **kwargs):\n",
    "        dlogp = torch.zeros_like(x[...,[0]])\n",
    "        return x[..., self.permutation], dlogp\n",
    "    \n",
    "    def _inverse(self, x, **kwargs):\n",
    "        dlogp = torch.zeros_like(x[...,[0]])\n",
    "        return x[..., self.inverse_permutation], dlogp"
   ]
  },
  {
   "cell_type": "code",
   "execution_count": 17,
   "id": "muslim-missouri",
   "metadata": {},
   "outputs": [],
   "source": [
    "class RealNVP(nn.SequentialFlow):\n",
    "    \n",
    "    def __init__(self, dim, hidden=[128, 128, 128]):\n",
    "        self.dim = dim\n",
    "        self.hidden = hidden\n",
    "        super().__init__(self._create_layers())\n",
    "    \n",
    "    def _create_layers(self):\n",
    "        dim_channel1 =  self.dim//2\n",
    "        dim_channel2 = self.dim - dim_channel1\n",
    "        random_permute = RandomPermuteFlow(self.dim)\n",
    "        split_into_2 = SplitFlow(dim_channel1, dim_channel2)\n",
    "        \n",
    "        # --- split in 2 channels\n",
    "        layers = []\n",
    "        layers.append(random_permute)\n",
    "        layers.append(split_into_2)\n",
    "        # --- transform\n",
    "        layers.append(self._create_coupling(dim_channel1, dim_channel2))\n",
    "        layers.append(nn.SwapFlow())\n",
    "        layers.append(self._create_coupling(dim_channel2, dim_channel1))\n",
    "        # ---  merge             \n",
    "        layers.append(nn.InverseFlow(split_into_2))\n",
    "        layers.append(nn.InverseFlow(random_permute))\n",
    "        return layers\n",
    "        \n",
    "    def _create_dense(self, dim1, dim2):\n",
    "        return nn.DenseNet(\n",
    "            [dim1, *self.hidden, dim2],\n",
    "            activation=torch.nn.ReLU()\n",
    "        )\n",
    "    \n",
    "    def _create_coupling(self, dim1, dim2):\n",
    "        return nn.CouplingFlow(nn.AffineTransformer(\n",
    "            shift_transformation = self._create_dense(dim1, dim2),\n",
    "            scale_transformation = self._create_dense(dim1, dim2)\n",
    "        ))\n",
    "    "
   ]
  },
  {
   "cell_type": "code",
   "execution_count": 18,
   "id": "analyzed-pacific",
   "metadata": {},
   "outputs": [
    {
     "data": {
      "text/plain": [
       "torch.Size([3, 60])"
      ]
     },
     "execution_count": 18,
     "metadata": {},
     "output_type": "execute_result"
    }
   ],
   "source": [
    "RealNVP(dim_ics).to(ctx).forward(prior.sample(3))[0].shape"
   ]
  },
  {
   "cell_type": "markdown",
   "id": "rural-portuguese",
   "metadata": {},
   "source": [
    "### Boltzmann Generator\n",
    "\n",
    "Finally, we define the Boltzmann generator.\n",
    "It will sample molecular conformations by \n",
    "\n",
    "1. sampling in latent space from the normal prior distribution\n",
    "2. transforming the samples into a more complication distribution through a number of RealNVP blocks (the parameters of these blocks will be subject to optimization)\n",
    "3. splitting the 60-dimensional output into blocks that define the internal coordinates\n",
    "4. transforming the internal coordinates into Cartesian coordinates through the inverse IC transform"
   ]
  },
  {
   "cell_type": "code",
   "execution_count": 19,
   "id": "parental-double",
   "metadata": {},
   "outputs": [],
   "source": [
    "n_realnvp_blocks = 8\n",
    "layers = []\n",
    "\n",
    "for i in range(n_realnvp_blocks):\n",
    "    layers.append(RealNVP(dim_ics, hidden=[128, 128, 128]))\n",
    "layers.append(split_into_ics_flow)\n",
    "layers.append(nn.InverseFlow(coordinate_transform))\n",
    "\n",
    "flow = nn.SequentialFlow(layers).to(ctx)"
   ]
  },
  {
   "cell_type": "code",
   "execution_count": 20,
   "id": "permanent-wheat",
   "metadata": {},
   "outputs": [
    {
     "data": {
      "text/plain": [
       "torch.Size([3, 66])"
      ]
     },
     "execution_count": 20,
     "metadata": {},
     "output_type": "execute_result"
    }
   ],
   "source": [
    "# test\n",
    "flow.forward(prior.sample(3))[0].shape"
   ]
  },
  {
   "cell_type": "code",
   "execution_count": 21,
   "id": "offensive-richards",
   "metadata": {},
   "outputs": [
    {
     "name": "stdout",
     "output_type": "stream",
     "text": [
      "#Parameters: 1307600\n"
     ]
    }
   ],
   "source": [
    "# print number of trainable parameters\n",
    "print(\n",
    "    \"#Parameters:\", \n",
    "    np.sum([np.prod(p.size()) for p in flow.parameters()])\n",
    ")"
   ]
  },
  {
   "cell_type": "markdown",
   "id": "honey-tomorrow",
   "metadata": {},
   "source": [
    "Molecular energies have many singularities. We smoothen and cut the potential so that the training is not biased by those exploding energies."
   ]
  },
  {
   "cell_type": "code",
   "execution_count": 22,
   "id": "least-clock",
   "metadata": {},
   "outputs": [],
   "source": [
    "from bgtorch import Energy\n",
    "from bgtorch.utils.train import linlogcut\n",
    "\n",
    "class AugmentedEnergy(Energy):\n",
    "    def __init__(self, base_model, augment_dim=0, high_energy=None, max_energy=None):\n",
    "        super().__init__(base_model.dim + augment_dim)\n",
    "        self.base_model = base_model\n",
    "        self.high_energy = high_energy\n",
    "        self.max_energy = max_energy\n",
    "    \n",
    "    def _energy(self, x, temperature=None):\n",
    "        U = self.base_model.energy(x[:, :self.base_model.dim])\n",
    "        if self.high_energy is not None or self.max_energy is not None:\n",
    "            U_mod = linlogcut(U, high_val=self.high_energy, max_val=self.max_energy, inplace=True)\n",
    "        else:\n",
    "            U_mod = U\n",
    "        \n",
    "        K = 0.5 * (x[:, self.base_model.dim:] ** 2).sum(axis=1, keepdim=True)            \n",
    "        return U_mod + K"
   ]
  },
  {
   "cell_type": "code",
   "execution_count": 23,
   "id": "afraid-transition",
   "metadata": {},
   "outputs": [],
   "source": [
    "from bgtorch import BoltzmannGenerator\n",
    "\n",
    "generator = BoltzmannGenerator(\n",
    "    flow=flow,\n",
    "    prior=prior,\n",
    "    target=AugmentedEnergy(target_energy, high_energy=500, max_energy=10000)\n",
    ")"
   ]
  },
  {
   "cell_type": "markdown",
   "id": "equivalent-payment",
   "metadata": {},
   "source": [
    "## Train\n",
    "\n",
    "Boltzmann generators can be trained in two ways:\n",
    "1. by matching the density of samples from the training data via the negative log likelihood (NLL)\n",
    "2. by matching the target density via the backward Kullback-Leibler loss (KLL)\n",
    "\n",
    "NLL-based training is faster, as it does not require the computation of molecular target energies. Therefore, we will first train the generator solely by density estimation.\n",
    "\n",
    "### NLL Training"
   ]
  },
  {
   "cell_type": "code",
   "execution_count": 24,
   "id": "refined-order",
   "metadata": {},
   "outputs": [],
   "source": [
    "nll_optimizer = torch.optim.Adam(generator.parameters(), lr=1e-3)\n",
    "nll_trainer = nn.KLTrainer(\n",
    "    generator, \n",
    "    optim=nll_optimizer,\n",
    "    train_energy=False\n",
    ")"
   ]
  },
  {
   "cell_type": "code",
   "execution_count": 25,
   "id": "confidential-advisory",
   "metadata": {
    "scrolled": true
   },
   "outputs": [
    {
     "name": "stdout",
     "output_type": "stream",
     "text": [
      "1\tNLL: -7.3103\t\n",
      "1001\tNLL: -194.0022\t\n",
      "2001\tNLL: -209.1905\t\n",
      "3001\tNLL: -215.5165\t\n",
      "4001\tNLL: -217.3517\t\n",
      "5001\tNLL: -215.2520\t\n",
      "6001\tNLL: -202.5330\t\n",
      "7001\tNLL: -206.4227\t\n",
      "8001\tNLL: -224.4022\t\n",
      "9001\tNLL: -220.7733\t\n",
      "10001\tNLL: -224.1091\t\n",
      "11001\tNLL: -219.4551\t\n",
      "12001\tNLL: -116.3757\t\n",
      "13001\tNLL: -192.0530\t\n",
      "14001\tNLL: -224.2071\t\n",
      "15001\tNLL: -217.3708\t\n",
      "16001\tNLL: -216.9696\t\n",
      "17001\tNLL: -224.3390\t\n",
      "18001\tNLL: -205.2390\t\n",
      "19001\tNLL: -216.5664\t\n"
     ]
    }
   ],
   "source": [
    "nll_trainer.train(\n",
    "    n_iter=20000, \n",
    "    data=training_data,\n",
    "    batchsize=128,\n",
    "    n_print=1000, \n",
    "    w_energy=0.0\n",
    ")"
   ]
  },
  {
   "cell_type": "markdown",
   "id": "administrative-batch",
   "metadata": {},
   "source": [
    "To see what the generator has learned so far, let's first create a bunch of samples and compare their backbone angles with the molecular dynamics data. Let's also plot their energies."
   ]
  },
  {
   "cell_type": "code",
   "execution_count": 26,
   "id": "stuck-automation",
   "metadata": {},
   "outputs": [],
   "source": [
    "import mdtraj as md\n",
    "\n",
    "def plot_phi_psi(ax, samples):\n",
    "    \n",
    "    trajectory = md.Trajectory(\n",
    "        xyz=samples.cpu().detach().numpy().reshape(-1, 22, 3), \n",
    "        topology=system.mdtraj_topology\n",
    "    )\n",
    "    phi, psi = system.compute_phi_psi(trajectory)\n",
    "    \n",
    "    ax.scatter(phi, psi, s=0.01)\n",
    "    ax.set_xlim(-np.pi, np.pi)\n",
    "    ax.set_ylim(-np.pi, np.pi)\n",
    "    ax.set_xlabel(\"$\\phi$\")\n",
    "    _ = ax.set_ylabel(\"$\\psi$\")\n",
    "    \n",
    "    return trajectory\n",
    "    \n",
    "\n",
    "def plot_energies(ax, samples):\n",
    "    sample_energies = target_energy.energy(samples)\n",
    "    md_energies = target_energy.energy(test_data[:n_samples])    \n",
    "    \n",
    "    ax.set_ylim(-100,100)\n",
    "    all_energies = torch.cat([\n",
    "        sample_energies.cpu(), \n",
    "        md_energies.cpu()\n",
    "    ], dim=-1).detach().numpy()\n",
    "    ax.violinplot(all_energies)\n",
    "    ax.set_xticks(ticks=(1.0, 2.0))\n",
    "    ax.set_xticklabels((\"BG\", \"MD\"))\n",
    "    _ = ax.set_ylabel(\"Energy [$k_B$T]\")"
   ]
  },
  {
   "cell_type": "code",
   "execution_count": 27,
   "id": "painful-grave",
   "metadata": {},
   "outputs": [
    {
     "data": {
      "image/png": "[encoded data removed]",
      "text/plain": [
       "<Figure size 432x216 with 2 Axes>"
      ]
     },
     "metadata": {
      "needs_background": "light"
     },
     "output_type": "display_data"
    }
   ],
   "source": [
    "n_samples = 10000\n",
    "samples = generator.sample(n_samples)\n",
    "\n",
    "fig, axes = plt.subplots(1, 2, figsize=(6,3))\n",
    "\n",
    "plot_phi_psi(axes[0], samples)\n",
    "plot_energies(axes[1], samples)\n",
    "\n",
    "del samples"
   ]
  },
  {
   "cell_type": "markdown",
   "id": "gentle-learning",
   "metadata": {},
   "source": [
    "### Mixed Training\n",
    "\n",
    "The next step is \"mixed\" training with a combination of NLL and KLL. To retain some of the progress made in the NLL phase, we decrease the learning rate and increase the batch size."
   ]
  },
  {
   "cell_type": "code",
   "execution_count": 28,
   "id": "attached-modification",
   "metadata": {},
   "outputs": [],
   "source": [
    "mixed_optimizer = torch.optim.Adam(generator.parameters(), lr=1e-4)\n",
    "mixed_trainer = nn.KLTrainer(\n",
    "    generator, \n",
    "    optim=mixed_optimizer,\n",
    "    train_energy=True\n",
    ")"
   ]
  },
  {
   "cell_type": "markdown",
   "id": "approved-consciousness",
   "metadata": {},
   "source": [
    "Mixed training will be considerably slower. \n",
    "To speed it up, you can change the settings for the OpenMM energy when creating the energy model. For example, consider not passing `n_workers=1`."
   ]
  },
  {
   "cell_type": "code",
   "execution_count": 29,
   "id": "skilled-sudan",
   "metadata": {},
   "outputs": [
    {
     "name": "stdout",
     "output_type": "stream",
     "text": [
      "1\tNLL: -228.6567\tKLL: 602.2184\t\n",
      "51\tNLL: -232.9775\tKLL: 566.2542\t\n",
      "101\tNLL: -234.1960\tKLL: 548.7974\t\n",
      "151\tNLL: -234.9788\tKLL: 518.2621\t\n",
      "201\tNLL: -235.5245\tKLL: 498.7918\t\n",
      "251\tNLL: -236.6823\tKLL: 487.5763\t\n",
      "301\tNLL: -237.2464\tKLL: 468.2600\t\n",
      "351\tNLL: -237.2711\tKLL: 464.3633\t\n",
      "401\tNLL: -238.0485\tKLL: 457.3008\t\n",
      "451\tNLL: -238.5704\tKLL: 458.7647\t\n",
      "501\tNLL: -239.2854\tKLL: 449.6733\t\n",
      "551\tNLL: -239.6127\tKLL: 446.1324\t\n",
      "601\tNLL: -240.4533\tKLL: 444.6346\t\n",
      "651\tNLL: -239.8679\tKLL: 444.0461\t\n",
      "701\tNLL: -241.2173\tKLL: 442.2700\t\n",
      "751\tNLL: -241.4852\tKLL: 445.4462\t\n",
      "801\tNLL: -242.3161\tKLL: 443.7641\t\n",
      "851\tNLL: -242.8688\tKLL: 432.8256\t\n",
      "901\tNLL: -242.8045\tKLL: 441.1501\t\n",
      "951\tNLL: -243.4812\tKLL: 439.3494\t\n"
     ]
    }
   ],
   "source": [
    "mixed_trainer.train(\n",
    "    n_iter=1000, \n",
    "    data=training_data,\n",
    "    batchsize=1000,\n",
    "    n_print=50, \n",
    "    w_energy=0.1,\n",
    "    w_likelihood=0.9\n",
    ")"
   ]
  },
  {
   "cell_type": "markdown",
   "id": "talented-glasgow",
   "metadata": {},
   "source": [
    "Plot the results:"
   ]
  },
  {
   "cell_type": "code",
   "execution_count": 30,
   "id": "hollywood-cycle",
   "metadata": {},
   "outputs": [
    {
     "data": {
      "image/png": "[encoded data removed]",
      "text/plain": [
       "<Figure size 432x216 with 2 Axes>"
      ]
     },
     "metadata": {
      "needs_background": "light"
     },
     "output_type": "display_data"
    }
   ],
   "source": [
    "n_samples = 10000\n",
    "samples = generator.sample(n_samples)\n",
    "    \n",
    "fig, axes = plt.subplots(1, 2, figsize=(6,3))\n",
    "\n",
    "trajectory = plot_phi_psi(axes[0], samples)\n",
    "plot_energies(axes[1], samples)\n",
    "\n",
    "del samples"
   ]
  },
  {
   "cell_type": "markdown",
   "id": "incoming-paste",
   "metadata": {},
   "source": [
    "With nglview installed, we can also take a look at the samples."
   ]
  },
  {
   "cell_type": "code",
   "execution_count": 31,
   "id": "hispanic-saskatchewan",
   "metadata": {},
   "outputs": [
    {
     "data": {
      "application/vnd.jupyter.widget-view+json": {
       "model_id": "92e653c8c6e2465e83b9daa33418eb97",
       "version_major": 2,
       "version_minor": 0
      },
      "text/plain": [
       "_ColormakerRegistry()"
      ]
     },
     "metadata": {},
     "output_type": "display_data"
    },
    {
     "data": {
      "application/vnd.jupyter.widget-view+json": {
       "model_id": "3d38cbdac36546bc86c9645ea5ee43ef",
       "version_major": 2,
       "version_minor": 0
      },
      "text/plain": [
       "NGLWidget(max_frame=9999)"
      ]
     },
     "metadata": {},
     "output_type": "display_data"
    }
   ],
   "source": [
    "try:\n",
    "    import nglview as nv\n",
    "    widget = nv.show_mdtraj(trajectory)\n",
    "except:\n",
    "    widget = None\n",
    "widget"
   ]
  },
  {
   "cell_type": "markdown",
   "id": "synthetic-departure",
   "metadata": {},
   "source": [
    "## Conclusions\n",
    "\n",
    "This tutorial has introduced the most basic concepts and implementations underlying Boltzmann generators and `bgtorch`. That said, the trained networks did not to a particularly good job in reproducing the molecular Boltzmann distribution. Specifically, they only modeled the major modes of the $\\phi$ angle and still produced many samples with unreasonably large energies. Let's look at a few shortcomings of the present architecture:\n",
    "\n",
    "### 1) Unconstrained Internal Coordinates\n",
    "Bonds, angles, and torsions cannot take arbitrary values in practice. Bond lengths need to be positive, angles live in $[0,\\pi],$ and torsions are periodic in $[-\\pi, \\pi].$ Neither those bounds nor the periodicity of torsions distributions have been taken into account by the present Boltzmann generator. The layers of the normalizing flow should be build in a way that preserves these constraints on the ICs.\n",
    "\n",
    "### 2)  Random Coupling\n",
    "The input was split into two channels randomly, which amounts to random conditioning of ICs on one another. A partial remedy is to define the conditioning in a physically informed manner. Another solution is to augment the base space by momenta, which can be done augmented normalizing flows (see for instance the notebook on temperature-steering flows).\n",
    "\n",
    "### 3) RealNVP Layers\n",
    "Affine coupling layers are well-known to perform poorly on mode separation so that the metastable region around $\\phi \\approx \\pi/2$ was not captured by the generator. Other architectures such as augmented flows or neural spline flows do a better job.\n",
    "\n",
    "### 4) Training\n",
    "The generators were only trained for relatively few iterations and performance may improve with longer training and better choices of the learning rate and hyperparameters."
   ]
  },
  {
   "cell_type": "code",
   "execution_count": null,
   "id": "painful-stamp",
   "metadata": {},
   "outputs": [],
   "source": []
  }
 ],
 "metadata": {
  "kernelspec": {
   "display_name": "Python [conda env:ml] *",
   "language": "python",
   "name": "conda-env-ml-py"
  },
  "language_info": {
   "codemirror_mode": {
    "name": "ipython",
    "version": 3
   },
   "file_extension": ".py",
   "mimetype": "text/x-python",
   "name": "python",
   "nbconvert_exporter": "python",
   "pygments_lexer": "ipython3",
   "version": "3.7.6"
  }
 },
 "nbformat": 4,
 "nbformat_minor": 5
}
