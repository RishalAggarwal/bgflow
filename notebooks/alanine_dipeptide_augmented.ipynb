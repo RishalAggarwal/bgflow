{
 "cells": [
  {
   "cell_type": "markdown",
   "id": "compatible-snowboard",
   "metadata": {},
   "source": [
    "# Alanine Dipeptide with Augmented Normalizing Flows\n",
    "\n",
    "This notebook introduces augmented normalizing flows. \n",
    "\n",
    "At first, let us import everything from the basics tutorial so that we can focus on the newly introduced concepts."
   ]
  },
  {
   "cell_type": "code",
   "execution_count": 1,
   "id": "little-machine",
   "metadata": {},
   "outputs": [
    {
     "name": "stdout",
     "output_type": "stream",
     "text": [
      "Using downloaded and verified file: /tmp/alanine-dipeptide-nowater.pdb\n"
     ]
    },
    {
     "data": {
      "application/vnd.jupyter.widget-view+json": {
       "model_id": "3a96561f2a3548c19c5b246f035d83a9",
       "version_major": 2,
       "version_minor": 0
      },
      "text/plain": [
       "_ColormakerRegistry()"
      ]
     },
     "metadata": {},
     "output_type": "display_data"
    }
   ],
   "source": [
    "import alanine_dipeptide_basics as basic"
   ]
  },
  {
   "cell_type": "markdown",
   "id": "spectacular-ranking",
   "metadata": {},
   "source": [
    "## Augmented Prior"
   ]
  },
  {
   "cell_type": "code",
   "execution_count": 2,
   "id": "important-front",
   "metadata": {},
   "outputs": [
    {
     "data": {
      "text/plain": [
       "MixedCoordinateTransformation(\n",
       "  (_whiten): WhitenFlow()\n",
       "  (_rel_ic): RelativeInternalCoordinatesTransformation()\n",
       ")"
      ]
     },
     "execution_count": 2,
     "metadata": {},
     "output_type": "execute_result"
    }
   ],
   "source": [
    "basic.coordinate_transform"
   ]
  },
  {
   "cell_type": "code",
   "execution_count": 3,
   "id": "powered-cooler",
   "metadata": {},
   "outputs": [
    {
     "data": {
      "text/plain": [
       "60"
      ]
     },
     "execution_count": 3,
     "metadata": {},
     "output_type": "execute_result"
    }
   ],
   "source": [
    "basic.dim_ics"
   ]
  },
  {
   "cell_type": "code",
   "execution_count": null,
   "id": "brazilian-league",
   "metadata": {},
   "outputs": [],
   "source": []
  }
 ],
 "metadata": {
  "kernelspec": {
   "display_name": "Python [conda env:ml] *",
   "language": "python",
   "name": "conda-env-ml-py"
  },
  "language_info": {
   "codemirror_mode": {
    "name": "ipython",
    "version": 3
   },
   "file_extension": ".py",
   "mimetype": "text/x-python",
   "name": "python",
   "nbconvert_exporter": "python",
   "pygments_lexer": "ipython3",
   "version": "3.7.6"
  }
 },
 "nbformat": 4,
 "nbformat_minor": 5
}
